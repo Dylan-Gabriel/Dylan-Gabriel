{
  "nbformat": 4,
  "nbformat_minor": 0,
  "metadata": {
    "colab": {
      "provenance": [],
      "include_colab_link": true
    },
    "kernelspec": {
      "name": "python3",
      "display_name": "Python 3"
    },
    "language_info": {
      "name": "python"
    }
  },
  "cells": [
    {
      "cell_type": "markdown",
      "metadata": {
        "id": "view-in-github",
        "colab_type": "text"
      },
      "source": [
        "<a href=\"https://colab.research.google.com/github/Dylan-Gabriel/Dylan-Gabriel/blob/main/CUADERNO_CALCULO_II.ipynb\" target=\"_parent\"><img src=\"https://colab.research.google.com/assets/colab-badge.svg\" alt=\"Open In Colab\"/></a>"
      ]
    },
    {
      "cell_type": "markdown",
      "source": [
        "# 📘 Cuaderno de Apuntes de Cálculo II Extra-largo.\n",
        "\n",
        "\n",
        "<p align=\"center\">\n",
        "  <img src=\"https://www.acatlan.unam.mx/identidad-acatlan/img/Logotipos/Logotipo/logo-negroBis.png\" width=\"550\"/>\n",
        "</p>\n",
        "\n",
        "## Universidad Nacional Autónoma de México.\n",
        "## Facultad de Estudios Superiores Acatlán.\n",
        "\n",
        "---\n",
        "\n",
        "### - Profesor: Guzmán Fuentes Ricardo.\n",
        "\n",
        "---\n",
        "\n",
        "### - Albor Saucedo Dylan Gabriel.\n",
        "### - Vázquez Mora Kenia.\n",
        "\n",
        "---\n",
        "\n",
        "#### Fecha de entrega: [Fecha de entrega]\n",
        "\n"
      ],
      "metadata": {
        "id": "2c3yIH4OaeQ0"
      }
    },
    {
      "cell_type": "markdown",
      "source": [
        "Estos apuntes fueron impartidos en la clase de Extra Largo de Cálculo II (MJ) por el profesor Guzmán Fuentes Ricardo. Se hace referencia a ellos en este cuaderno para complementar y fundamentar el desarrollo de los temas aquí expuestos."
      ],
      "metadata": {
        "id": "wMOCzZu6Ze2l"
      }
    },
    {
      "cell_type": "markdown",
      "source": [
        "# **Introducción a Lógica.**\n",
        "### **Definición**\n",
        "Proposición lógica: Es un enunciado (con sujeto, predicado, verbo), con un único valor de verdad. Siempre hay que poner contexto.\n",
        "\n",
        "### **Definición**\n",
        "Proposición lógica abierta: Enunciado que contiene una(s) variable(s)\n",
        "\n",
        "### **Conjunto**\n",
        " Es un término indefinido (por lo que no hay contexto). Ahora, en un contexto dado es una colección de objetos que hacen verdadera una proposición lógica abierta (Universo es el contexto $\\mathbf{U}$ ). Es decir:\n",
        "$$\n",
        "A:=\\{* \\in \\mathrm{U}|P(*)\\}\n",
        "$$\n",
        "\n",
        "####**Ejemplo:**\n",
        "En el contexto usual S es negro (proposición lógica abierta).\n",
        "\n",
        "- **Disyunción:** Dados ( $P$ ) y ( $Q$ ), una proposición lógica ( $T$ ) se puede expresar como \"$P$ o $Q$\" y se denota como ( $P \\lor Q$ ).\n",
        "\n",
        "- **Conjunción:** Dados ( $P$ ) y ( $Q$ ), una proposición lógica ( $T$ ) se puede expresar como \"$P$ y $Q$\" y se denota como ( $P \\land Q$ ).\n",
        "\n",
        "- **Negación:** Dada ( $P$ ), una proposición lógica ( $T$ ) se puede expresar como \"Es falso que $P$\" o \"No $P$\" y se denota como ( $\\neg P$ ) o ( $\\sim P$ ).\n",
        "\n",
        "- **Implicación:** Dados ( $P$ ) y ( $Q$ ), una proposición lógica ( $T$ ) se puede expresar como \"$P$ entonces $Q$\" o \"$P$ implica $Q$\", y se denota como   ( $P \\Rightarrow Q$ ).\n",
        "\n",
        "- **Bicondicional:** Dados ( $P$ ) y ( $Q$ ), una proposición lógica ( $T$ ) se puede expresar como \"$P$ sii $Q$\" o \"$P$ entonces $Q$ y $Q$ entonces $P$\", y se denota como ( $P \\iff Q$ ).\n",
        "\n",
        "**Nota:** En estas definiciones no se incluyen valores de verdad.\n",
        "\n",
        "---\n",
        "\n",
        "- **Disyunción:** ( $P \\lor Q$ ) es falsa (F) siempre que ( $P$ ) y ( $Q$ ) sean falsas; en otro caso, es verdadera (V).\n",
        "\n",
        "- **Conjunción:** ( $P \\land Q$ ) es verdadera siempre que ( $P$ ) es V y ( $Q$ ) es V; en otro caso será falsa.\n",
        "\n",
        "- **Negación:** ( $\\neg P$ ) es V si ( $P$ ) es F, y es F si ( $P$ ) es V.\n",
        "\n",
        "- **Implicación:** ( $P \\Rightarrow Q$ ) es F siempre que ( $P$ ) es V y ( $Q$ ) es F; en otro caso es V.\n",
        "\n",
        "- **Bicondicional:** ( $P \\iff Q$ ) es F siempre que ocurre que ( $P$ ) es V y ( $Q$ ) es F, o bien si ( $P$ ) es F y ( $Q$ ) es V.\n",
        "\n",
        "- **Tautología:** Proposición que siempre es verdad, sin importar su contexto, y se denota por ( $P \\lor \\neg P$ ).\n",
        "\n",
        "- **Contradicción:** Proposición que siempre es falsa, sin importar su contexto, y se denota por ( $P \\land \\neg P$ ).\n",
        "\n",
        "---\n",
        "\n",
        "### **Definición**\n",
        "Sean $A$ y $B$ conjuntos del universo $\\mathbf{U}$ con $A = \\{ □ ∈ \\mathbf{U}: P(□) \\}$ y $B = \\{ ⋆ ∈ \\mathbf{U}: Q(⋆) \\}$. Así definamos\n",
        "\n",
        "* **El conjunto unión**: Sean $A$ y $B$ dos conjuntos $A=\\{△ \\in \\mathbf{U}| P(△) \\lor Q(△)\\}$ y se denota como $A \\cup B$.\n"
      ],
      "metadata": {
        "id": "_CSWVP0kd-u_"
      }
    },
    {
      "cell_type": "code",
      "source": [
        "# # Define the sets A and B before using them\n",
        "A = {1, 2, 3}\n",
        "B = {3, 4, 5}\n",
        "\n",
        "union = A.union(B)\n",
        "print(f\"La unión de A y B es: {union}\")"
      ],
      "metadata": {
        "colab": {
          "base_uri": "https://localhost:8080/"
        },
        "id": "4dDvu5yGdoRs",
        "outputId": "b4c78f45-a340-4b3d-87a7-2a34784a6771"
      },
      "execution_count": null,
      "outputs": [
        {
          "output_type": "stream",
          "name": "stdout",
          "text": [
            "La unión de A y B es: {1, 2, 3, 4, 5}\n"
          ]
        }
      ]
    },
    {
      "cell_type": "markdown",
      "source": [
        "* **El conjunto intersección**: Sea $A$ y $B$ dos conjuntos es el conjunto $A \\cup B$ formado por los elementos de $A$ y $B$.\n",
        "\n",
        "  $A=\\{x \\in \\mathbf{U}|P(x)\\}$, $B=\\{x \\in \\mathbf{U}|Q(x)\\}$.\n",
        "La interseccion entre $A$ y $B$ es el conjunto $\\{x \\in \\mathbf{U}| P(x)\\land Q(x)\\}$ y se denota como $A \\cap B$"
      ],
      "metadata": {
        "id": "ej1kl0gMd9xe"
      }
    },
    {
      "cell_type": "code",
      "source": [
        "A = {1, 2, 3}\n",
        "B = {3, 4, 5}\n",
        "\n",
        "interseccion = A.intersection(B)\n",
        "print(f\"La intersección de A y B es: {interseccion}\")"
      ],
      "metadata": {
        "colab": {
          "base_uri": "https://localhost:8080/"
        },
        "id": "xTex1ZEYfK9r",
        "outputId": "1b4edc0f-7116-4201-b15f-db474ce14818"
      },
      "execution_count": null,
      "outputs": [
        {
          "output_type": "stream",
          "name": "stdout",
          "text": [
            "La intersección de A y B es: {3}\n"
          ]
        }
      ]
    },
    {
      "cell_type": "markdown",
      "source": [
        "* **El conjunto complemento**: Sea $A$ un conjunto $A=\\{a \\in \\mathbf{U}: P(u)\\}$ El complemento de A es el conjunto $\\{u \\in \\mathbf{U}:\\neg P(u)\\}$ y se denota por $A^c$ o $\\mathbf{U}\\backslash A$."
      ],
      "metadata": {
        "id": "FBCY0_VffR1e"
      }
    },
    {
      "cell_type": "code",
      "source": [
        "U = {1, 2, 3, 4, 5, 6}  # Universo\n",
        "A = {1, 2, 3}\n",
        "\n",
        "complemento_A = U - A\n",
        "print(f\"El complemento de A respecto a U es: {complemento_A}\")"
      ],
      "metadata": {
        "colab": {
          "base_uri": "https://localhost:8080/"
        },
        "id": "p-PZS7Pqf4aZ",
        "outputId": "4a4f37ff-f1ec-4608-ada3-b6c39b254383"
      },
      "execution_count": null,
      "outputs": [
        {
          "output_type": "stream",
          "name": "stdout",
          "text": [
            "El complemento de A respecto a U es: {4, 5, 6}\n"
          ]
        }
      ]
    },
    {
      "cell_type": "markdown",
      "source": [
        "* **El conjunto diferencia**: Sean $A$ y $B$ dos conjuntos $A=\\{x \\in \\mathbf{U}|P(x)\\}$, $B=\\{x \\in \\mathbf{U}| Q(x)\\}$ de elementos que solo pertencen a $A$ o $B$ pero no a ambos y que solo se denota como $A \\vartriangle B= (P(x) \\cup Q(x) \\backslash (P(x)\\cap Q(x))=(P(x)\\backslash Q(x))\\cup(Q(x) \\backslash P(x))$.\n",
        "\n",
        "  **Nota:** Si se intercambia B con A eso denota un nuevo conjunto. No se estan restando."
      ],
      "metadata": {
        "id": "9QG1zFWogGAu"
      }
    },
    {
      "cell_type": "code",
      "source": [
        "A = {1, 2, 3, 4}\n",
        "B = {3, 4, 5}\n",
        "\n",
        "diferencia = A - B\n",
        "print(f\"La diferencia A - B es: {diferencia}\")"
      ],
      "metadata": {
        "colab": {
          "base_uri": "https://localhost:8080/"
        },
        "id": "G5g0gPRohR5V",
        "outputId": "f70b3a59-21f0-49f0-cb63-07e3ebdacac9"
      },
      "execution_count": null,
      "outputs": [
        {
          "output_type": "stream",
          "name": "stdout",
          "text": [
            "La diferencia A - B es: {1, 2}\n"
          ]
        }
      ]
    },
    {
      "cell_type": "markdown",
      "source": [
        "* **El subconjunto**: Sean $A$ y $B$ dos conjuntos $A=\\{a \\in \\mathbf{U}: P(u)\\}$ y $B=\\{u \\in \\mathbf{U}: Q(u)\\}$. El subconjunto $A$ es subconjunto de (esta contenido en) $B$ siempre que $\\forall \\bigstar \\in A: Q(x)$ y se denota por $A \\subset B$ o $A \\subseteq B.$"
      ],
      "metadata": {
        "id": "MuBMy0tyhghJ"
      }
    },
    {
      "cell_type": "code",
      "source": [
        "A = {1, 2}\n",
        "B = {1, 2, 3, 4}\n",
        "\n",
        "es_subconjunto = A.issubset(B)\n",
        "print(f\"A es subconjunto de B: {es_subconjunto}\")\n"
      ],
      "metadata": {
        "colab": {
          "base_uri": "https://localhost:8080/"
        },
        "id": "JdkMocXUiHKQ",
        "outputId": "2dd5597b-814e-428f-afcb-93139d813e0a"
      },
      "execution_count": null,
      "outputs": [
        {
          "output_type": "stream",
          "name": "stdout",
          "text": [
            "A es subconjunto de B: True\n"
          ]
        }
      ]
    },
    {
      "cell_type": "markdown",
      "source": [
        "Sean $A$ y $B$ dos conjuntos $A=\\{a \\in \\mathbf{U}: P(u)\\}$ y $B=\\{u \\in \\mathbf{U}: Q(u)\\}$. El conjunto A es subconjunto propio de B siempre que:\n",
        "\n",
        "* $\\forall \\bigstar \\in A:Q(\\bigstar)$\n",
        "* $\\exists \\Box \\in B: \\neg P(\\Box)$ y se denota por $A \\subsetneq B$\n",
        "\n",
        "**Nota:** En el punto 5 no impide que A y B sean iguales, pero el punto 6 si lo hace.\n"
      ],
      "metadata": {
        "id": "mKU0Ar1YiSUY"
      }
    },
    {
      "cell_type": "code",
      "source": [
        "A = {1, 2}\n",
        "B = {1, 2, 3}\n",
        "\n",
        "es_subconjunto_propio = A.issubset(B) and A != B\n",
        "print(f\"A es subconjunto propio de B: {es_subconjunto_propio}\")\n"
      ],
      "metadata": {
        "colab": {
          "base_uri": "https://localhost:8080/"
        },
        "id": "JIXDS9itjJJx",
        "outputId": "56125596-34a0-4627-a1cf-69a9635e0a79"
      },
      "execution_count": null,
      "outputs": [
        {
          "output_type": "stream",
          "name": "stdout",
          "text": [
            "A es subconjunto propio de B: True\n"
          ]
        }
      ]
    },
    {
      "cell_type": "markdown",
      "source": [
        "### **Corolario**\n",
        "\n",
        "$A = B$ $sii$ $A ⊂ B \\land A$ demostrar a nivel de pl\n",
        "\n",
        "* El vacío $\\emptyset$ es el conjunto cuyo p.l es una contradicción.\n",
        "\n",
        "Para dos objetos a y b, definamos la **pareja ordenada** a con b, en ese orden como:\n",
        "\n",
        "* (a, b):= {a, {b}} $\\ni$ a\n",
        "* (b, a):= {b, {a}} $\\notin$ a\n",
        "\n",
        "---\n",
        "\n",
        "### **Ternas.**\n",
        "\n",
        "$(a, b, c):= \\{a,\\{b,\\{c\\}\\}\\}$     \n",
        "\n",
        "\n",
        "Dados dos conjuntos $A$ y $B$ (no necesariamente del mismo universo), al conjunto de parejas ordenadas $(a, b)$ con $a \\in A$ y $b \\in B$, se llama **producto cartesiano** de $A$ con $B$, en ese orden. Dicho conjunto se denota por:\n",
        "\n",
        "  $A × B:= \\{(a, b)| a ∈ A \\land b \\in B\\}$\n",
        "\n",
        "Un conjunto $F ⊂ A × B$ con $A$ y $B$ conjuntos, el cual cumple:\n",
        "\n",
        "$$\n",
        "∀ a \\in A, \\exists! b \\in B: (a, b) \\ F≡\n",
        "\\begin{cases}\n",
        "  ∀ a \\in A, \\exists b \\in B: (a, b) ∈ F\n",
        " \\\\\n",
        "  (a, b), (a, c)\\in F ⇒ b =c\n",
        "\\end{cases}\n",
        "$$\n"
      ],
      "metadata": {
        "id": "uAYq2tqxlpCT"
      }
    },
    {
      "cell_type": "markdown",
      "source": [
        "# **Función**\n",
        "\n",
        "### **Definición**\n",
        "Sean A y B dos conjuntos F$\\in$ A$\\times$B es una funcion si:\n",
        "* $\\forall a \\in A, \\exists b \\in B : (a, b) \\in F$\n",
        "* $\\forall a \\in A, b,c \\in B : ((a, b) \\in F \\land (a, c) \\in F) \\Longrightarrow b = c$\n",
        "\n",
        "Si $f: A \\to B$ es una función con $A$ y $B$ conjuntos, diremos que $f$ es:\n",
        "\n",
        "### **Función inyectiva**\n",
        "Se cumple que:\n",
        "\n",
        " $\\forall a, b \\in A, \\quad f(a) = f(b) \\Rightarrow a = b$\n",
        "\n",
        "  $a \\neq b \\Rightarrow f(a) \\neq f(b)$\n",
        "\n",
        "Es decir, si dos elementos distintos tienen la misma imagen, entonces deben ser el mismo.\n",
        "\n",
        "###**Función sobreyectiva (suprayectiva)**\n",
        "También llamada **supra, sobre o suprayectiva**, se cumple que:\n",
        "\n",
        "  $\\forall b \\in B, \\quad f^{-1}(b) \\neq \\emptyset$\n",
        "\n",
        "\n",
        "###**Función biyectiva**\n",
        "Una función es **biyectiva** cuando es simultáneamente inyectiva y sobreyectiva.\n",
        "\n",
        "###**Función invertible**\n",
        "$f$ es invertible sii existe una función $g: B \\to A$ tal que:\n",
        "\n",
        "  $f \\circ g = I_B \\quad \\text{y} \\quad g \\circ f = I_A$\n",
        "\n",
        "Aquí el conjunto $A$ se le denomina dominio de la función $f$\n",
        "\n",
        "  $Dom(f) \\lor dom(f)$\n",
        "\n",
        "La proposición lógica abierta que  define $f$,si $(a, b) \\in F$, b se llama **imagen** de $f(a)=b$\n",
        "\n",
        "El conjnto $B$, se llama codominio de $f$ y se denota por\n",
        "\n",
        "  $Cod(f) \\lor cod(f)$\n",
        "\n",
        "  **Nota:** El rango es dimensión del conjunro imagen de la transformación lineal\n",
        "\n",
        "El conjunto imagen de $f$, se define como:\n",
        "\n",
        "$Im(f)=Img(f):=\\{f(a) | a ∈ A\\}$\n",
        "\n",
        "Si $C ⊂ A$, el conjunto\n",
        "\n",
        "$f(C):=\\{f(a) \\in B | a \\in C\\}$\n",
        "\n",
        "Si $D ⊂ B$\n",
        "\n",
        "$f^{-1}(D):=\\{a \\in A | f(a) \\in D\\}$ \\\\\n",
        "  pre-imagen/ imagen inversa de $D$"
      ],
      "metadata": {
        "id": "qM-kSE_VvVqp"
      }
    },
    {
      "cell_type": "markdown",
      "source": [
        "### **Gráfica**\n",
        "\n",
        "$Gra(f)=\\{(a,f(a))|a ∈ A\\}$ \\\\\n",
        "  **Nota:** No confundir con la representación gráfica\n",
        "\n",
        "\n",
        "$$\n",
        "f: A \\to B\n",
        "$$\n",
        "$$\n",
        "a \\mapsto b\n",
        "$$\n",
        "\n",
        "---\n",
        "\n",
        " $$f: A \\to B, f(a) = b$$\n",
        "\n",
        "Una función $f$ con dominia $A$, codominio $B$ y regla de correspondencia $f(a)=b$ para cada $a\\in A$, se denota como lo anterior.\n",
        "\n",
        "### **Ejemplo:**\n",
        "\n",
        "  $$f: \\mathbb{R}\\to \\mathbb{R}, f(x)=2$$ \\\\\n",
        "  $$f: \\mathbb{R} \\setminus \\{0\\} \\to \\mathbb{R}$$ $$x↦\\frac{1}{2}$$ \\\\\n",
        "  $$g:\\mathbb{N}\\to \\mathbb{N}$$ $$x↦x^2$$ \\\\\n",
        "\n",
        "  **Nota:** Estas funciones que vimos son funciones uni-valuadas\n",
        "\n",
        "### **Regla de correspondencia.**\n",
        "\n",
        "$$D: \\mathbb{R}[x]\\to \\mathbb{R}[x]$$ $$P↦ D_{x}P$$ \\\\\n",
        "$$P\\in\\mathbb{R}[x]$$ $$P:\\mathbb{R}\\to \\mathbb{R}, P(x)= ∑_{i=0}^n a_i xî$$ \\\\\n",
        "  \n",
        "El dominio natural de una función es el \"subconjunto más grande de A\".\n",
        "\n",
        "Si $f$ es una función con dominio un subconjunto de A y codominio B.\n",
        "\n",
        "---\n"
      ],
      "metadata": {
        "id": "-Kq8COY_fI6P"
      }
    },
    {
      "cell_type": "markdown",
      "source": [
        "# **Sucesiones.**\n",
        "\n",
        "### **Definición:**\n",
        "Para $m∈ \\mathbb{Z}$, defina el conjunto $I_m:=\\{n∈\\mathbb{Z}:m \\leq n\\}$\n",
        "\n",
        "### **Ejemplos**\n",
        "\n",
        "1. Para $$m=3$$ $$I_3:=\\{n \\in \\mathbb{Z}| n \\geq 3\\} = \\{3, 4, 5, 6, 7,...\\}$$\n",
        "2.  Para $$I_{-4}:=\\{n ∈ \\mathbb{Z}: n\\geq -4\\} = \\{-4, -3, -2,..., 0, 1, 2,...\\}$$\n",
        "\n",
        "### **Definición:**\n",
        "Una función $a: I_{m}\\to A$, con $m \\in \\mathbb{Z}$ y $A$ un conjunto no vacío, se llama sucesión.\n",
        "\n",
        "**Nota:** Si el conjunto $A$ es un conjunto de los $\\mathbb{R}$, la sucesion se llama **sucesión de números reales** o **sucesión real**. \\\\\n",
        "**Nota:** Si el conjunto de $A$ es un conjunto de $\\mathbb{C}$ la sucesión se llama **sucesión de números complejos**. \\\\\n",
        "**Nota:** Si el conjunto $A$ es un conjunto de $M_{n×m}$, la sucesión se llama **sucesión matricial**. \\\\\n",
        "**Nota:** Si el conjunto $A$ es un conjunto de polinomios la sucesión se llama **sucesión polinomial**.\n",
        "\n",
        "###**Ejemplo**\n",
        "1. Sea $A$ (conjunto) la sucesion siguiente"
      ],
      "metadata": {
        "id": "b7-Mwgt9n2Ib"
      }
    },
    {
      "cell_type": "code",
      "source": [
        "import matplotlib.pyplot as plt\n",
        "import matplotlib.patches as patches\n",
        "\n",
        "# Crear la figura y el eje\n",
        "fig, ax = plt.subplots(figsize=(8, 4))\n",
        "\n",
        "# Cuadro 1: Cuadro vacío sin pintar (solo el borde)\n",
        "ax.add_patch(patches.Rectangle((0, 0), 2, 2, linewidth=2, edgecolor='black', facecolor='none'))\n",
        "\n",
        "# Cuadro 2: Solo el cuadro superior derecho coloreado\n",
        "ax.add_patch(patches.Rectangle((3, 0), 2, 2, linewidth=2, edgecolor='black', facecolor='none'))\n",
        "ax.add_patch(patches.Rectangle((4, 1), 1, 1, linewidth=1, edgecolor='black', facecolor='red'))  # Parte superior derecha coloreada\n",
        "\n",
        "# Cuadro 3: Solo el cuadro inferior derecha coloreado\n",
        "ax.add_patch(patches.Rectangle((6, 0), 2, 2, linewidth=2, edgecolor='black', facecolor='none'))\n",
        "ax.add_patch(patches.Rectangle((7, 0), 1, 1, linewidth=1, edgecolor='black', facecolor='green'))  # Parte inferior derecha coloreada\n",
        "\n",
        "# Cuadro 4: Solo el cuadro inferior derecha coloreado\n",
        "ax.add_patch(patches.Rectangle((9, 0), 2, 2, linewidth=2, edgecolor='black', facecolor='none'))\n",
        "ax.add_patch(patches.Rectangle((9, 0), 1, 1, linewidth=1, edgecolor='black', facecolor='blue'))  # Parte inferior derecha coloreada\n",
        "\n",
        "# Cuadro 5: Solo el cuadro superior izquierdo coloreado\n",
        "ax.add_patch(patches.Rectangle((12, 0), 2, 2, linewidth=2, edgecolor='black', facecolor='none'))\n",
        "ax.add_patch(patches.Rectangle((12, 1), 1, 1, linewidth=1, edgecolor='black', facecolor='yellow'))  # Parte superior izquierda coloreada\n",
        "\n",
        "# Ajustar los límites del gráfico\n",
        "ax.set_xlim(0, 15)\n",
        "ax.set_ylim(0, 2.5)\n",
        "\n",
        "# Configurar el gráfico para que se vea bien\n",
        "ax.set_aspect('equal')\n",
        "plt.axis('off')  # Ocultar los ejes\n",
        "\n",
        "# Mostrar el gráfico\n",
        "plt.show()\n"
      ],
      "metadata": {
        "colab": {
          "base_uri": "https://localhost:8080/",
          "height": 140
        },
        "id": "DTnoyF3XxcFb",
        "outputId": "bbfc630c-510e-4921-d685-0afc7804c20b"
      },
      "execution_count": null,
      "outputs": [
        {
          "output_type": "display_data",
          "data": {
            "text/plain": [
              "<Figure size 800x400 with 1 Axes>"
            ],
            "image/png": "[encoded data removed]"
          },
          "metadata": {}
        }
      ]
    },
    {
      "cell_type": "markdown",
      "source": [
        "Así defina\n",
        "\n",
        "$$a:I_{1}\\to A$$\n",
        "\n",
        "$$\n",
        "a(n)≡\n",
        "\\begin{cases}\n",
        "  \\text{primer cuadro si,  } ∃ m \\in \\mathbb{Z}: n= 5m\n",
        " \\\\\n",
        "  \\text{segundo cuadro si,  } ∃ m \\in \\mathbb{Z}: n= 5m+1\n",
        " \\\\\n",
        "  \\text{tercer cuadro si,  } ∃ m \\in \\mathbb{Z}: n= 5m+2\n",
        " \\\\\n",
        "  \\text{cuarto cuadro si,  } ∃ m \\in \\mathbb{Z}: n= 5m+3\n",
        " \\\\\n",
        " \\text{quinto cuadro si,  } ∃ m \\in \\mathbb{Z}: n= 5m+4\n",
        "\\end{cases}\n",
        "$$\n"
      ],
      "metadata": {
        "id": "B7zsTvBw4njP"
      }
    },
    {
      "cell_type": "markdown",
      "source": [
        "2.  $$F: I_{1}\\to \\mathbb{N}$$\n",
        "$$\n",
        "F(n)≡\n",
        "\\begin{cases}\n",
        "  1 \\text{ si } n\\leq 2\n",
        " \\\\\n",
        "  F(n-1)+F(n-2) c.o.c \\text{ (cualquier otro caso).}\n",
        "\\end{cases}\n",
        "$$\n"
      ],
      "metadata": {
        "id": "q0Qak5-sCdW4"
      }
    },
    {
      "cell_type": "code",
      "source": [
        "def F(n):\n",
        "    \"\"\"\n",
        "    Calcula el n-ésimo término de la sucesión F definida recursivamente.\n",
        "\n",
        "    F(1) = 1\n",
        "    F(2) = 1\n",
        "    F(n) = F(n-1) + F(n-2) para n > 2\n",
        "    \"\"\"\n",
        "    if n <= 2:\n",
        "        return 1  # Caso base: F(1) = F(2) = 1\n",
        "    else:\n",
        "        return F(n - 1) + F(n - 2)  # Caso recursivo\n",
        "\n",
        "def F_secuencia(n):\n",
        "    \"\"\"\n",
        "    Genera una lista con los primeros n términos de la sucesión F.\n",
        "    \"\"\"\n",
        "    secuencia = []\n",
        "    for i in range(1, n + 1):\n",
        "        secuencia.append(F(i))  # Calcula cada término usando la función F\n",
        "    return secuencia\n",
        "\n",
        "# Ejemplo de uso: Calculamos la sucesión hasta el término 7\n",
        "n = 7\n",
        "\n",
        "# Llamamos a la función para generar la sucesión hasta el término n\n",
        "sucesion = F_secuencia(n)\n",
        "\n",
        "# Mostramos el resultado de la sucesión\n",
        "print(f\"La sucesión F hasta el término {n} es: {sucesion}\")"
      ],
      "metadata": {
        "colab": {
          "base_uri": "https://localhost:8080/"
        },
        "id": "hECa47akFa1-",
        "outputId": "ba44d764-2105-4d3b-98fb-5e899aec2f7f"
      },
      "execution_count": null,
      "outputs": [
        {
          "output_type": "stream",
          "name": "stdout",
          "text": [
            "La sucesión F hasta el término 7 es: [1, 1, 2, 3, 5, 8, 13]\n"
          ]
        }
      ]
    },
    {
      "cell_type": "markdown",
      "source": [
        "3.  $$F: I_{0, 1}\\to \\mathbb{N} \\cup \\{0\\} $$\n",
        "$$\n",
        "F_{a, b}(n)≡\n",
        "\\begin{cases}\n",
        "  0 \\text{ si } n = 0\n",
        " \\\\\n",
        " 1 \\text{ si } n = 1\n",
        " \\\\\n",
        "  F(n-1)+F(n-2) c.o.c \\text{ (cualquier otro caso).}\n",
        "\\end{cases}\n",
        "$$"
      ],
      "metadata": {
        "id": "M-RpB4g7FWkP"
      }
    },
    {
      "cell_type": "code",
      "source": [
        "def F(n):\n",
        "\n",
        "    if n == 0:\n",
        "        return 0  # Caso base: F(0) = 0\n",
        "    elif n == 1:\n",
        "        return 1  # Caso base: F(1) = 1\n",
        "    else:\n",
        "        return F(n - 1) + F(n - 2)  # Caso recursivo\n",
        "\n",
        "def F_secuencia(n):\n",
        "\n",
        "    secuencia = []\n",
        "    for i in range(n + 1):\n",
        "        secuencia.append(F(i))  # Calcula cada término usando la función F\n",
        "    return secuencia\n",
        "\n",
        "# Ejemplo de uso: Calculamos la sucesión hasta el término 7\n",
        "n = 7\n",
        "\n",
        "# Llamamos a la función para generar la sucesión hasta el término n\n",
        "sucesion = F_secuencia(n)\n",
        "\n",
        "# Mostramos el resultado de la sucesión\n",
        "print(f\"La sucesión F hasta el término {n} es: {sucesion}\")"
      ],
      "metadata": {
        "colab": {
          "base_uri": "https://localhost:8080/"
        },
        "id": "oWCZuvj6HetT",
        "outputId": "e348a962-f533-4697-d759-98318c9857cf"
      },
      "execution_count": null,
      "outputs": [
        {
          "output_type": "stream",
          "name": "stdout",
          "text": [
            "La sucesión F hasta el término 7 es: [0, 1, 1, 2, 3, 5, 8, 13]\n"
          ]
        }
      ]
    },
    {
      "cell_type": "markdown",
      "source": [
        "4.  Sean $a, b ∈ \\mathbb{R}$ y $F_{a, b}: I\\to \\mathbb{R}$\n",
        "$$\n",
        "F_{a, b}(n)≡\n",
        "\\begin{cases}\n",
        "  a \\text{ si } n = 1\n",
        " \\\\\n",
        "  b \\text{ si } n = 2\n",
        " \\\\\n",
        "  F(n-1)+F(n-2) c.o.c \\text{ (cualquier otro caso).}\n",
        "\\end{cases}\n",
        "$$"
      ],
      "metadata": {
        "id": "OYSpGqMaIMQ0"
      }
    },
    {
      "source": [
        "def F_secuencia(n, a, b):\n",
        "\n",
        "    secuencia = []\n",
        "    for i in range(1, n + 1):\n",
        "        if i == 1:\n",
        "            secuencia.append(a)\n",
        "        elif i == 2:\n",
        "            secuencia.append(b)\n",
        "        else:\n",
        "            secuencia.append(secuencia[i - 2] + secuencia[i - 3])  # Corrección: Usando índices i-2 e i-3\n",
        "    return secuencia\n",
        "\n",
        "# Ejemplo de uso\n",
        "n = 13  # Número de términos de la sucesión\n",
        "a = 1   # Valor de F(1)\n",
        "b = 2   # Valor de F(2)\n",
        "\n",
        "sucesion = F_secuencia(n, a, b)\n",
        "print(f\"La sucesión F hasta el término {n} es: {sucesion}\")"
      ],
      "cell_type": "code",
      "metadata": {
        "colab": {
          "base_uri": "https://localhost:8080/"
        },
        "id": "0WhSAMgbLSJa",
        "outputId": "77f46666-b60b-4928-d638-c7f0438d3572"
      },
      "execution_count": null,
      "outputs": [
        {
          "output_type": "stream",
          "name": "stdout",
          "text": [
            "La sucesión F hasta el término 13 es: [1, 2, 3, 5, 8, 13, 21, 34, 55, 89, 144, 233, 377]\n"
          ]
        }
      ]
    },
    {
      "source": [
        "def F(n, a, b):\n",
        "\n",
        "    if n == 1:\n",
        "        return a  # Caso base: F(1) = a\n",
        "    elif n == 2:\n",
        "        return b  # Caso base: F(2) = b\n",
        "    else:\n",
        "        return F(n - 1, a, b) + F(n - 2, a, b)  # Caso recursivo\n",
        "\n",
        "def F_secuencia(n, a, b):\n",
        "\n",
        "    secuencia = []\n",
        "    for i in range(1, n + 1):\n",
        "        secuencia.append(F(i, a, b))  # Calcula cada término usando la función F\n",
        "    return secuencia\n",
        "\n",
        "# Ejemplo de uso\n",
        "n = 7  # Número de términos de la sucesión\n",
        "a = 3   # Valor de F(1)\n",
        "b = 5   # Valor de F(2)\n",
        "\n",
        "sucesion = F_secuencia(n, a, b)\n",
        "print(f\"La sucesión F hasta el término {n} es: {sucesion}\")"
      ],
      "cell_type": "code",
      "metadata": {
        "colab": {
          "base_uri": "https://localhost:8080/"
        },
        "outputId": "83aca3e8-252a-4345-d2da-88e8d348a665",
        "id": "vxBoLbuXU98f"
      },
      "execution_count": null,
      "outputs": [
        {
          "output_type": "stream",
          "name": "stdout",
          "text": [
            "La sucesión F hasta el término 7 es: [3, 5, 8, 13, 21, 34, 55]\n"
          ]
        }
      ]
    },
    {
      "cell_type": "markdown",
      "source": [
        "### **NOTACIÓN**\n",
        "\n",
        "La definición anterior se denota por $$\\{a_n\\}_{n∈ I_{m}}$$ donde $a :I_{m}\\to A$, $a_n:=a(n) ∀ n ∈ I_{m}$ y $m ∈ \\mathbb{Z}$\n",
        "\n",
        "### **OBSERVACIÓN**\n",
        "Si tengo $\\{a_n\\}_{n∈ I_{m}}$ y $m, p ∈ \\mathbb{Z}$ podemos encontrar una sucesión $\\{a_n\\}_{n∈ I_{p}}$ para la cual si $n ∈ I_{p}:$ $$a_{n} = a_{0}\\text{ para algún } 0 ∈ I_{m}$$ y $$ a_{n+1} = a_{0+1}$$\n",
        "\n",
        "---\n",
        "\n",
        "### **PROPIEDADES Y ÁLGEBRA DE SUCESIONES**\n",
        "Sean $\\{a_n\\}_{n \\in \\mathbb{N}}$ y $\\{b_n\\}_{n \\in \\mathbb{N}}$ sucesiones reales y $c, d \\in \\mathbb{R}$.\n",
        "\n",
        "1. $\\{a_n\\}_{n \\in \\mathbb{N}} + \\{b_n\\}_{n \\in \\mathbb{N}} = \\{a_{n} + b_{n}\\}_{n \\in \\mathbb{N}}$\n",
        "2. $c\\{a_n\\}_{n \\in \\mathbb{N}} = \\{c a_n\\}_{n \\in \\mathbb{N}}$\n",
        "  \n",
        "  **NOTA:** El producto es por izquierda.\n",
        "\n",
        "3. $\\{a_n\\}_{n \\in \\mathbb{N}} \\{b_n\\}_{n \\in \\mathbb{N}} = \\{a_n b_n\\}_{n \\in \\mathbb{N}}$\n",
        "4. Si para cada $n∈\\mathbb{N}: a_n=c$, diremos que $\\{a_n\\}_{n∈\\mathbb{N}}$ es una sucesión constante\n",
        "5. $\\{a_n\\}_{n \\in \\mathbb{N}} = \\{b_n\\}_{n \\in \\mathbb{N}}$ sii $∀ n ∈ \\mathbb{N}: a_n = b_n$\n",
        "6. Si para cada $n\\in\\mathbb{N}: b_n \\neq 0$, entonces:\n",
        "  1. $\\frac{1}{\\{b_n\\}_{n \\in \\mathbb{N}}} = \\{\\frac{1}{b_n}\\}_{n \\in \\mathbb{N}}$ \\\\\n",
        "\n",
        "  2. $\\frac{\\{a_n\\}_{n \\in \\mathbb{N}}}{\\{b_n\\}_{n \\in \\mathbb{N}}} = \\{\\frac{a_n}{b_n}\\}_{n\\in\\mathbb{N}}$\n",
        "\n",
        "7. $\\{a_n\\}_{n\\in\\mathbb{N}}$ es acotado superiormente por $M ∈ \\mathbb{R}$ sii $∀ n∈ \\mathbb{N}: a_n\\leq M$\n",
        "8. $\\{a_n\\}_{n\\in\\mathbb{N}}$ es acotado inferiormente por $m ∈ \\mathbb{R}$ sii $∀ n∈ \\mathbb{N}: a_n\\leq m$\n",
        "  \n",
        "  **NOTA:**ed\n",
        "\n",
        "9. $\\{a_n\\}_{n\\in\\mathbb{N}}$ es monótona creciente sii $∀ n, m\\in \\mathbb{N}: m < n \\Rightarrow a_n\\leq a_m$\n",
        "10. $\\{a_n\\}_{n\\in\\mathbb{N}}$ es monótona estrictamente creciente sii $∀ n, m\\in \\mathbb{N}: n< m \\Rightarrow a_n\\leq a_m$\n",
        "11. $\\{a_n\\}_{n∈\\mathbb{N}}$ es monótona decreciente sii $∀ n, m∈\\mathbb{N}: n< m ⇒ a_n> a_m$\n",
        "12. $\\{a_n\\}_{n\\in\\mathbb{N}}$ es monótona estrictamente decreciente sii $∀ n, m\\in \\mathbb{N}: n< m \\Rightarrow a_n\\geq a_m$\n",
        "13. $\\{a_n\\}_{n\\in\\mathbb{N}}$ es monótona sii cumple 9, 10, 11 o 12.\n",
        "\n",
        "### **EJEMPLO:**\n",
        "1. Sea $$a, b : \\mathbb{N} \\to \\mathbb{R}$$ donde $$a_n = n - 1, \\quad b_n = \\frac{n^2 - 1}{n + 1}$$\n",
        "  Sabemos que es una diferencia de cuadrados.\n",
        "\n",
        "2. La sucesiones $\\{(-1)^n\\}_{n\\in\\mathbb{N}}$ y $\\{\\cos(n\\pi)\\}_{n\\in\\mathbb{N}}$\n",
        "\n",
        "3. La sucesión $\\{\\frac{1}{n}\\}_{n\\in\\mathbb{N}}$ es acotada superiormente por 1\n",
        "  \n",
        "  En efecto, si $n\\in \\mathbb{N}$ tenemos $$1\\leq n$$ asi $$\\frac{1}{n}\\leq 1.$$ Si $M=1$, tendremos que para cada $n∈\\mathbb{N}$ $$\\frac{1}{n}\\leq M.$$\n",
        "  Y 0 es cota inferior de  $\\{\\frac{1}{n}\\}_{n\\in\\mathbb{N}}$. Puesto que si $n∈\\mathbb{N}$, sabemos que $1\\leq n \\land 0< 1$.\n",
        "\n",
        "  Por **transitividad**, sabemos que si $0 < \\frac{1}{n}$, entonces $0$ es cota inferior de $\\left\\{\\frac{1}{n}\\right\\}_{n \\in \\mathbb{N}}$.\n",
        "\n",
        "  Esto se debe a que si $\\frac{1}{n} \\geq 0$ para todo $n \\in \\mathbb{N}$, podemos aplicar la propiedad de transitividad de la relación de desigualdad.\n",
        "\n",
        "  Es decir, como $0 \\leq \\frac{1}{n}$, podemos concluir que: $$m = 0 \\leq \\frac{1}{n}$$\n",
        "\n",
        "  Y el **Teorema de las cotas inferiores** dice que si $m$ es un número real tal que: $$m \\leq \\frac{1}{n} \\quad \\text{para todo } n \\in \\mathbb{N}$$\n",
        "\n",
        "  entonces $m$ es una **cota inferior** de la sucesión $\\left\\{ \\frac{1}{n} \\right\\}_{n \\in \\mathbb{N}}$.\n",
        "\n",
        "  En nuestro caso, $m = 0$, ya que para todo $n \\in \\mathbb{N}$, tenemos: $$0 \\leq \\frac{1}{n}.$$\n",
        "\n",
        "  Por lo tanto, $0$ es una cota inferior de la sucesión $\\left\\{ \\frac{1}{n} \\right\\}_{n \\in \\mathbb{N}}$.\n",
        "\n",
        "  Por lo cual, si $n ∈ \\mathbb{N}:m \\leq \\frac{1}{n}$\n",
        "\n",
        "4. La sucesión $\\{-n\\}_{n∈\\mathbb{N}}$ es acotada superiormente por $0$ y no es acotada inferiormente. \\\\\n",
        "  Si $$n∈\\mathbb{N},$$ entonces $$0< 1\\leq n⇒ 0>-1\\geq -n$$ \\\\\n",
        "  Es decir $0$ acota superiormente a $\\{-n\\}_{n∈\\mathbb{N}}$, supongamos  que existe $M∈\\mathbb{R}$ t.q $M$ es cota inferior de $\\{-n\\}_{n∈\\mathbb{N}}$, es decir:\n",
        "  \n",
        "  $$∀ n\\in\\mathbb{N}: -n\\geq M$$\n",
        "\n",
        "  Pero sabemos que $⟦M⟧∈\\mathbb{Z}$, existe $n∈\\mathbb{N}$ t.q $-n_0⟦M⟧$ y $⟦M⟧\\leq M$, con esto $$-1-n_0< -n_0\\leq M$$\n",
        "  y $-1-n_0∈\\mathbb{Z}$, esto es $n_{0}+1∈\\mathbb{N}!$\n",
        "\n",
        "5. La sucesión $\\left\\{ \\frac{1}{n} \\right\\}_{n \\in \\mathbb{N}}$ es monótona estrictamente decreciente.  \n",
        "Puesto que si $n, m \\in \\mathbb{N}$ con $n < m$ tenemos que:\n",
        "\n",
        "$$\n",
        "a_{m} = \\frac{1}{m} < \\frac{1}{n} = a_{n}\n",
        "$$\n",
        "\n",
        "$$\n",
        "\\Rightarrow a_m < a_n\n",
        "$$\n",
        "\n",
        "6. La sucesión $\\{(-1^n)\\}_{n∈\\mathbb{N}}$ no es monótona. \\\\\n",
        "Puesto que si $n∈\\mathbb{N}$, entonces::\n",
        "\n",
        "$$\n",
        "a_{2n}=(-1)^{2n}=1 > -1= (-1)^{2n+1}= a_{2n+1}= a_{2n+2}\n",
        "$$\n",
        "\n",
        "---\n",
        "\n",
        "### **DEFINICIÓN:**\n",
        "Diremos que $\\{a_n\\}_{n∈\\mathbb{N}} ⊂ \\mathbb{R}$ cumple la propiedad (p.l) $P$ salvo un número finito de términos (s.n.f.t) sii $∃ m∈ \\mathbb{N}$ t.q $∀ n∈ I_{m}: a_n$ la cumple.\n",
        "\n",
        "### **EJEMPLOS:**\n",
        "\n",
        "* La sucesión $\\{-n\\}_{n∈ I_{-5} }$ es negativa s.n.f.t\n",
        "  $$5, 4, 3, 2, 1, 0, -1, -2, -3, -4, ...$$ \\\\\n",
        "  Toma $m=1 ∈ I_{-5}$, así para $n∈ I_{1}$ se tiene que $-n\\leq I_{1}$ se tiene que $-n\\leq -1 \\land -1< 0$ esto es:\n",
        "\n",
        "  $$\n",
        "  ∀ n∈I_{1}: -n< 0\n",
        "  $$\n",
        "\n",
        "---\n",
        "\n",
        "Para $f:A⊂\\mathbb{R}\\to \\mathbb{R}$ función, diremos que $L$ es límite de $f$ cuando $x$, tiende a $x_0∈\\mathbb{R}$ sii\n",
        "\n",
        " $$\n",
        " ∀ ɛ ∈ \\mathbb{R_+}, ∃ δ ∈ \\mathbb{R_+}: x \\in A \\land 0< |x-x_{0}|<δ ⇒ |f(x-L|<ɛ\n",
        " $$\n",
        "\n",
        "---\n",
        "\n",
        "### **Límite en el infinito**\n",
        "Sea $f$ uan función\n",
        "\n",
        "$$\n",
        "  f:\\mathbb{R}\\to\\mathbb{R}: L \\text{ es el límite de  } f \\text{ cuando } x \\text{ tiende a } ∞ \\text{ sii }\n",
        "$$\n",
        "\n",
        "$$\n",
        "∀ ɛ \\mathbb{R_+}, ∃ M∈ \\mathbb{R_+}: x > M ⇒|f(x)-L|< ɛ\n",
        "$$\n",
        "\n",
        "Diremos que $\\{a_n\\}_{n\\in\\mathbb{N}}$ converge si tiene límite en caso que no pase es divergente.\n",
        "\n",
        "### **PROPIEDAD**\n",
        "Los límites de sucesiones en $\\mathbb{R}$  son únicos\n",
        "\n",
        "### **DEMOSTRACIÓN**\n",
        "**Paso 1: Definición de límite**\n",
        "\n",
        "Según la definición de límite, para $L$ y $M$, tenemos que:\n",
        "\n",
        "- Para $L$, dado $\\varepsilon > 0$, existe $N_1 \\in \\mathbb{N}$ tal que si $n \\geq N_1$, entonces:\n",
        "$$\n",
        "|a_n - L| < \\varepsilon\n",
        "$$\n",
        "- Para $M$, dado $\\varepsilon > 0$, existe $N_2 \\in \\mathbb{N}$ tal que si $n \\geq N_2$, entonces:\n",
        "$$\n",
        "|a_n - M| < \\varepsilon\n",
        "$$\n",
        "\n",
        "**Paso 2: Considerar el valor $\\varepsilon = \\frac{|L - M|}{2}$**\n",
        "\n",
        "El valor de $\\varepsilon$ es suficientemente pequeño para que podamos usar ambos límites. Así, existen $N_1$ y $N_2$ tal que para $n \\geq N_1$ y $n \\geq N_2$, se cumplen:\n",
        "\n",
        "$$\n",
        "|a_n - L| < \\frac{|L - M|}{2} \\quad \\text{y} \\quad |a_n - M| < \\frac{|L - M|}{2}\n",
        "$$\n",
        "\n",
        "**Paso 3: Triángulo de desigualdad**\n",
        "\n",
        "Si sumamos las dos desigualdades obtenidas:\n",
        "\n",
        "$$\n",
        "|a_n - L| + |a_n - M| \\leq |(a_n - L) + (L - M) + (M - a_n)|\n",
        "$$\n",
        "\n",
        "Por la propiedad de la desigualdad triangular:\n",
        "\n",
        "$$\n",
        "|a_n - L| + |a_n - M| \\geq |L - M|\n",
        "$$\n",
        "\n",
        "Pero, como sabemos que $|a_n - L| < \\frac{|L - M|}{2}$ y $|a_n - M| < \\frac{|L - M|}{2}$, sumamos ambos lados:\n",
        "\n",
        "$$\n",
        "|a_n - L| + |a_n - M| < |L - M|\n",
        "$$\n",
        "\n",
        "**Paso 4: Conclusión**\n",
        "\n",
        "Esto implica que:\n",
        "$$\n",
        "|L - M| \\leq |a_n - L| + |a_n - M| < |L - M|\n",
        "$$\n",
        "Lo que lleva a la contradicción, ya que $|L - M|$ no puede ser menor que sí mismo.\n",
        "\n",
        "Por lo tanto, $L = M$.\n",
        "\n",
        "**Conclusión:**  \n",
        "Los límites de una sucesión en $\\mathbb{R}$ son únicos. $\\boxed{L = M}$.\n",
        "\n",
        "### **DEFINICIÓN**\n",
        "Para$\\{a_n\\}_{n∈\\mathbb{N}} ⊂ \\mathbb{R}$ diremos que $\\{a_n\\}_{n∈\\mathbb{N}}$ diverge a $∞$ sii\n",
        "\n",
        "\n",
        "\n",
        "\n",
        "\n",
        "\n",
        "\n",
        "\n",
        "\n",
        "\n",
        "\n",
        "\n",
        "\n",
        "\n",
        "\n",
        "\n",
        "\n",
        "\n"
      ],
      "metadata": {
        "id": "Q_s_VG4aVStF"
      }
    }
  ]
}